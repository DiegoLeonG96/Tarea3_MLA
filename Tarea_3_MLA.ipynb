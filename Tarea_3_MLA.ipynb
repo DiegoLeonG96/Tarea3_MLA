{
  "cells": [
    {
      "cell_type": "markdown",
      "metadata": {
        "id": "view-in-github",
        "colab_type": "text"
      },
      "source": [
        "<a href=\"https://colab.research.google.com/github/DiegoLeonG96/Tarea3_MLA/blob/main/Tarea_3_MLA.ipynb\" target=\"_parent\"><img src=\"https://colab.research.google.com/assets/colab-badge.svg\" alt=\"Open In Colab\"/></a>"
      ]
    },
    {
      "cell_type": "markdown",
      "metadata": {
        "id": "GVkJWtRWRkv-"
      },
      "source": [
        "# Tarea 3 Machine Learning Avanzado\n",
        "\n",
        "Profesor: Tomás Fontecilla\n",
        "\n",
        "Integrantes:\n",
        "\n",
        "- Julio Assmann\n",
        "- Diego León\n",
        "- Sofía Vits"
      ]
    },
    {
      "cell_type": "code",
      "execution_count": null,
      "metadata": {
        "id": "ja7RLfa_Rkv_"
      },
      "outputs": [],
      "source": [
        "import tensorflow as tf\n",
        "from tensorflow import keras\n",
        "import numpy as np\n",
        "from keras import models, layers, optimizers, regularizers\n",
        "from tensorflow.keras.layers import Dense, Flatten, Conv2D, MaxPooling2D, BatchNormalization\n",
        "from keras.models import Sequential\n",
        "from keras.optimizers import Adam\n",
        "from keras.losses import binary_crossentropy\n",
        "from tensorflow.keras.preprocessing.image import ImageDataGenerator\n",
        "import matplotlib.pyplot as plt\n",
        "import random\n",
        "import kagglehub\n",
        "# Establecer la semilla para Python\n",
        "random.seed(42)\n",
        "\n",
        "# Establecer la semilla para NumPy\n",
        "np.random.seed(42)\n",
        "\n",
        "# Establecer la semilla para TensorFlow\n",
        "tf.random.set_seed(42)"
      ]
    }
  ],
  "metadata": {
    "kernelspec": {
      "display_name": "Python 3",
      "name": "python3"
    },
    "language_info": {
      "name": "python",
      "version": "3.12.4"
    },
    "colab": {
      "provenance": [],
      "gpuType": "T4",
      "include_colab_link": true
    },
    "accelerator": "GPU"
  },
  "nbformat": 4,
  "nbformat_minor": 0
}