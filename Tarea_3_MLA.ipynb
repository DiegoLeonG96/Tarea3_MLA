{
 "cells": [
  {
   "cell_type": "markdown",
   "metadata": {},
   "source": [
    "# Tarea 3\n",
    "\n",
    "Integrantes:\n",
    "\n",
    "- Julio Assmann\n",
    "- Diego León\n",
    "- Sofía Vits"
   ]
  },
  {
   "cell_type": "code",
   "execution_count": null,
   "metadata": {},
   "outputs": [],
   "source": [
    "import tensorflow as tf\n",
    "from tensorflow import keras\n",
    "import numpy as np\n",
    "from keras import models, layers, optimizers, regularizers\n",
    "from tensorflow.keras.layers import Dense, Flatten, Conv2D, MaxPooling2D, BatchNormalization\n",
    "from keras.models import Sequential\n",
    "from keras.optimizers import Adam\n",
    "from keras.losses import binary_crossentropy\n",
    "from tensorflow.keras.preprocessing.image import ImageDataGenerator\n",
    "import matplotlib.pyplot as plt\n",
    "import random\n",
    "import kagglehub\n",
    "# Establecer la semilla para Python\n",
    "random.seed(42)\n",
    "\n",
    "# Establecer la semilla para NumPy\n",
    "np.random.seed(42)\n",
    "\n",
    "# Establecer la semilla para TensorFlow\n",
    "tf.random.set_seed(42)"
   ]
  }
 ],
 "metadata": {
  "kernelspec": {
   "display_name": "udd_python_proyecto",
   "language": "python",
   "name": "python3"
  },
  "language_info": {
   "name": "python",
   "version": "3.12.4"
  }
 },
 "nbformat": 4,
 "nbformat_minor": 2
}
